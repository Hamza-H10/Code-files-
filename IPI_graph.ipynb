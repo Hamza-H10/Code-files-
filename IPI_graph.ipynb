{
  "nbformat": 4,
  "nbformat_minor": 0,
  "metadata": {
    "colab": {
      "provenance": [],
      "authorship_tag": "ABX9TyMcwpHDoUXgXcx0j9GcHrF9",
      "include_colab_link": true
    },
    "kernelspec": {
      "name": "python3",
      "display_name": "Python 3"
    },
    "language_info": {
      "name": "python"
    }
  },
  "cells": [
    {
      "cell_type": "markdown",
      "metadata": {
        "id": "view-in-github",
        "colab_type": "text"
      },
      "source": [
        "<a href=\"https://colab.research.google.com/github/Hamza-H10/Code-files-/blob/main/IPI_graph.ipynb\" target=\"_parent\"><img src=\"https://colab.research.google.com/assets/colab-badge.svg\" alt=\"Open In Colab\"/></a>"
      ]
    },
    {
      "cell_type": "code",
      "source": [
        "import numpy as np\n",
        "import matplotlib.pyplot as plt\n",
        "\n",
        "\n",
        "import plotly.express as px\n",
        "from plotly.subplots import make_subplots\n",
        "import plotly.graph_objects as go\n",
        "\n",
        "data = [\n",
        "    [\"22/08/2023 16:24\", 1.10, 82.05, 1],\n",
        "    [\"22/08/2023 16:24\", 1.63, 4.63, 2],\n",
        "    [\"22/08/2023 16:24\", -0.74, 2.93, 3],\n",
        "    [\"22/08/2023 16:24\", -2.07, 3.94, 4],\n",
        "    [\"22/08/2023 16:24\", -2.32, 3.88, 5],\n",
        "    [\"22/08/2023 16:24\", 2.23, 1.33, 6],\n",
        "    [\"22/08/2023 16:24\", -1.78, 6.94, 7],\n",
        "    [\"22/08/2023 16:24\", -1.93, 5.83, 8],\n",
        "]\n",
        "\n",
        "\n",
        "# Updated column labels\n",
        "column_labels = [\"Date-Time\", \"A_axis\", \"B_axis\", \"IPI\", \"Depth(m)\", \"Cumulative Negative Depth\"]\n",
        "\n",
        "# Get user input for custom depth values or use default value of 1.0\n",
        "depth_values = []\n",
        "cumulative_negative_depth = 0.0\n",
        "cumulative_negative_depth_values = []\n",
        "\n",
        "for row in data:\n",
        "\n",
        "    depth_input = input(\"Enter depth in meters (default: 1.0): \")\n",
        "    depth = float(depth_input) if depth_input else 1.0\n",
        "    cumulative_negative_depth += depth\n",
        "    depth_values.append(depth)\n",
        "    cumulative_negative_depth_values.append((-1)*cumulative_negative_depth)\n",
        "\n",
        "# Convert the lists to NumPy arrays3\n",
        "depth_values_array = np.array(depth_values).reshape(-1, 1)\n",
        "cumulative_negative_depth_array = np.array(cumulative_negative_depth_values).reshape(-1, 1)\n",
        "\n",
        "# cumulative_negative_depth_values\n",
        "\n",
        "# Add the depth and cumulative negative depth columns to the data\n",
        "data_with_depth = [row + [depth, cumulative_depth] for row, depth, cumulative_depth in zip(data, depth_values, cumulative_negative_depth_values)]\n",
        "\n",
        "# Convert the list of labels and data into a NumPy array\n",
        "data_with_labels_and_depth = np.vstack([column_labels, data_with_depth])\n",
        "\n",
        "print(data_with_labels_and_depth)\n",
        "\n"
      ],
      "metadata": {
        "id": "Gt74CTiBzGw8",
        "colab": {
          "base_uri": "https://localhost:8080/"
        },
        "outputId": "53a9b432-a256-4f71-b928-4bd8ad0e4bfc"
      },
      "execution_count": null,
      "outputs": [
        {
          "output_type": "stream",
          "name": "stdout",
          "text": [
            "Enter depth in meters (default: 1.0): \n",
            "Enter depth in meters (default: 1.0): \n",
            "Enter depth in meters (default: 1.0): \n",
            "Enter depth in meters (default: 1.0): \n",
            "Enter depth in meters (default: 1.0): \n",
            "Enter depth in meters (default: 1.0): \n",
            "Enter depth in meters (default: 1.0): \n",
            "Enter depth in meters (default: 1.0): \n",
            "[['Date-Time' 'A_axis' 'B_axis' 'IPI' 'Depth(m)'\n",
            "  'Cumulative Negative Depth']\n",
            " ['22/08/2023 16:24' '1.1' '82.05' '1' '1.0' '-1.0']\n",
            " ['22/08/2023 16:24' '1.63' '4.63' '2' '1.0' '-2.0']\n",
            " ['22/08/2023 16:24' '-0.74' '2.93' '3' '1.0' '-3.0']\n",
            " ['22/08/2023 16:24' '-2.07' '3.94' '4' '1.0' '-4.0']\n",
            " ['22/08/2023 16:24' '-2.32' '3.88' '5' '1.0' '-5.0']\n",
            " ['22/08/2023 16:24' '2.23' '1.33' '6' '1.0' '-6.0']\n",
            " ['22/08/2023 16:24' '-1.78' '6.94' '7' '1.0' '-7.0']\n",
            " ['22/08/2023 16:24' '-1.93' '5.83' '8' '1.0' '-8.0']]\n"
          ]
        }
      ]
    },
    {
      "cell_type": "markdown",
      "source": [
        "# **Displacent Cumulative** *Graph* - plotting the graph with a baseline(Date not sure) and A_axis(data)"
      ],
      "metadata": {
        "id": "8WrEWI1idDa5"
      }
    },
    {
      "cell_type": "code",
      "source": [
        "\n",
        "# Extract cumulative displacement (A_axis) and cumulative negative depth values\n",
        "cumulative_displacement = data_with_labels_and_depth[1:, 1].astype(float)\n",
        "cumulative_negative_depth = data_with_labels_and_depth[1:, -1].astype(float)\n",
        "\n",
        "# Plot the cumulative displacement graph\n",
        "plt.figure(figsize=(7, 7))\n",
        "plt.plot(cumulative_displacement, cumulative_negative_depth, marker='s')\n",
        "plt.axvline(x=0, color='black', linestyle='--')\n",
        "plt.xlabel(\"Cumulative Displacement (A_axis)\")\n",
        "plt.ylabel(\"Cumulative Negative Depth\")\n",
        "plt.title(\"Cumulative Displacement vs. Cumulative Negative Depth\")\n",
        "plt.ylim(min(cumulative_negative_depth) - 1, max(cumulative_negative_depth) + 1)\n",
        "plt.grid(True)\n",
        "plt.show()\n"
      ],
      "metadata": {
        "id": "Ghz42D1GPkPW"
      },
      "execution_count": null,
      "outputs": []
    },
    {
      "cell_type": "code",
      "source": [
        "import plotly.graph_objects as go\n",
        "import pandas as pd\n",
        "\n",
        "def display_graph():\n",
        "    cnt = 0\n",
        "    max_x = 50.0\n",
        "    str_base_data = None\n",
        "\n",
        "    y_axis = dict(\n",
        "        title='Depth (Mtr)',\n",
        "        showgrid=True,\n",
        "        zeroline=False,\n",
        "        showline=True,\n",
        "        mirror='ticks'\n",
        "    )\n",
        "\n",
        "    x_axis = dict(\n",
        "        title='Displacement (mm)',\n",
        "        showgrid=True,\n",
        "        zeroline=False,\n",
        "        showline=True,\n",
        "        mirror='ticks',\n",
        "        range=[-80, 80],\n",
        "        tickvals=[-80, -70, -60, -50, -40, -30, -20, -10, 0, 10, 20, 30, 40, 50, 60, 70, 80],\n",
        "        ticktext=['-80', '', '', '', '', '-30', '-20', '-10', '0', '10', '20', '30', '40', '50', '', '', '80'],\n",
        "        tickmode='array'\n",
        "    )\n",
        "\n",
        "    series_collection = []\n",
        "\n",
        "    # Simulated data, replace with your data\n",
        "    simulated_data = [\n",
        "        {\"depth\": 10, \"displacement\": 15},\n",
        "        {\"depth\": 20, \"displacement\": 30},\n",
        "        {\"depth\": 30, \"displacement\": 20},\n",
        "        # ... Add more data points\n",
        "    ]\n",
        "\n",
        "    for i, item in enumerate(simulated_data):\n",
        "        val = (item[\"displacement\"] - item[\"depth\"]) / 2\n",
        "        abs_val = 0\n",
        "\n",
        "        if abs(val) > max_x:\n",
        "            max_x = abs(val)\n",
        "\n",
        "        series_collection.append(go.Scatter(\n",
        "            x=[val],\n",
        "            y=[-item[\"depth\"]],\n",
        "            mode='markers+lines',\n",
        "            name=f\"[File {i}]\",\n",
        "            line=dict(color='rgba(0,0,0,0)'),\n",
        "            marker=dict(size=5),\n",
        "        ))\n",
        "\n",
        "        cnt += 1\n",
        "\n",
        "    max_x += max_x * 0.2\n",
        "    max_x = int(max_x)\n",
        "    x_axis['range'] = [-max_x, max_x]\n",
        "\n",
        "    fig = go.Figure(\n",
        "        data=series_collection,\n",
        "        layout=go.Layout(\n",
        "            xaxis=x_axis,\n",
        "            yaxis=y_axis,\n",
        "        )\n",
        "    )\n",
        "\n",
        "    fig.show()\n",
        "\n",
        "display_graph()\n"
      ],
      "metadata": {
        "id": "nUI-4h-KQr-b"
      },
      "execution_count": null,
      "outputs": []
    },
    {
      "cell_type": "code",
      "source": [
        "# Given data array, don't use this data because the lables formate of this data is not the same as the csv file data\n",
        "data = [\n",
        "    ['DateTime', 'A', 'B', 'Sensor', 'Depth', 'Cumulative Negative Depth'],\n",
        "    ['22/08/2023 16:24', '1.1', '82.05', '1', '1.0', '-1.0'],\n",
        "    ['22/08/2023 16:24', '1.63', '4.63', '2', '1.0', '-2.0'],\n",
        "    ['22/08/2023 16:24', '-0.74', '2.93', '3', '1.0', '-3.0'],\n",
        "    ['22/08/2023 16:24', '-2.07', '3.94', '4', '1.0', '-4.0'],\n",
        "    ['22/08/2023 16:24', '-2.32', '3.88', '5', '1.0', '-5.0'],\n",
        "    ['22/08/2023 16:24', '2.23', '1.33', '6', '1.0', '-6.0'],\n",
        "    ['22/08/2023 16:24', '-1.78', '6.94', '7', '1.0', '-7.0'],\n",
        "    ['22/08/2023 16:24', '-1.93', '5.83', '8', '1.0', '-8.0']\n",
        "]"
      ],
      "metadata": {
        "id": "szod1CpCXKT0"
      },
      "execution_count": null,
      "outputs": []
    },
    {
      "cell_type": "code",
      "source": [
        "import pandas as pd\n",
        "\n",
        "# Specify the path to your CSV file\n",
        "csv_file_path = 'dataIPI_main.csv'\n",
        "\n",
        "# Read the first three rows into a dictionary\n",
        "metadata = {}\n",
        "lines_to_write = []  # Store the lines to write to the new file\n",
        "\n",
        "with open(csv_file_path, 'r') as file:\n",
        "    for i, line in enumerate(file):\n",
        "        if i < 3:\n",
        "            key, value = line.strip().split(',')\n",
        "            metadata[key] = value\n",
        "        else:\n",
        "            lines_to_write.append(line)\n",
        "\n",
        "# Create a new CSV file with the remaining lines (starting from the fourth line)\n",
        "new_csv_file_path = 'reformatted_data.csv'\n",
        "with open(new_csv_file_path, 'w') as new_file:\n",
        "    for line in lines_to_write:\n",
        "        new_file.write(line)\n",
        "\n",
        "\n",
        "# Display the metadata dictionary\n",
        "print(\"Metadata:\")\n",
        "print(metadata)\n",
        "\n",
        "# Read the newly created CSV file into a DataFrame\n",
        "data = pd.read_csv(new_csv_file_path)\n",
        "\n",
        "# Display the first few rows of the DataFrame\n",
        "print(\"\\nData:\")\n",
        "print(data.head())\n"
      ],
      "metadata": {
        "colab": {
          "base_uri": "https://localhost:8080/"
        },
        "id": "_3EbxEvH-s3H",
        "outputId": "f592f26f-49bc-4798-d4db-1c6284269cd1"
      },
      "execution_count": null,
      "outputs": [
        {
          "output_type": "stream",
          "name": "stdout",
          "text": [
            "Metadata:\n",
            "{'\"Borehole:\"': '01', '\"Sitename:\"': '\"testing\"', '\"Location:\"': '\"off\"'}\n",
            "\n",
            "Data:\n",
            "           DateTime  Sensor  Depth     A      B\n",
            "0  22/08/2023 16:24       1    6.0  7.10  82.05\n",
            "1  22/08/2023 16:24       2   12.0  1.63   4.63\n",
            "2  22/08/2023 16:24       3   18.0 -0.74   2.93\n",
            "3  22/08/2023 16:24       4   24.0 -2.07   3.94\n",
            "4  22/08/2023 16:24       5   30.0 -2.32   3.88\n"
          ]
        }
      ]
    },
    {
      "cell_type": "code",
      "source": [
        "import pandas as pd\n",
        "\n",
        "# Specify the path to your CSV file\n",
        "# csv_file_path = 'data_IPI.csv'\n",
        "csv_file_path = 'reformatted_data.csv'\n",
        "\n",
        "# Read the CSV file into a DataFrame\n",
        "data = pd.read_csv(csv_file_path)\n",
        "\n",
        "# Display the first few rows of the DataFrame\n",
        "print(data.head())\n"
      ],
      "metadata": {
        "colab": {
          "base_uri": "https://localhost:8080/"
        },
        "id": "t_fu4cNwejqD",
        "outputId": "5f5157b7-d5f0-4b72-a087-27e9cf8f5c03"
      },
      "execution_count": null,
      "outputs": [
        {
          "output_type": "stream",
          "name": "stdout",
          "text": [
            "           DateTime  Sensor  Depth     A      B\n",
            "0  22/08/2023 16:24       1    6.0  7.10  82.05\n",
            "1  22/08/2023 16:24       2   12.0  1.63   4.63\n",
            "2  22/08/2023 16:24       3   18.0 -0.74   2.93\n",
            "3  22/08/2023 16:24       4   24.0 -2.07   3.94\n",
            "4  22/08/2023 16:24       5   30.0 -2.32   3.88\n"
          ]
        }
      ]
    },
    {
      "cell_type": "code",
      "source": [
        "\n",
        "\n",
        "# Specify the path to your CSV file\n",
        "csv_file_path = 'reformatted_data.csv'\n",
        "\n",
        "# Read the CSV file into a DataFrame\n",
        "data = pd.read_csv(csv_file_path)\n",
        "\n",
        "# Calculate the cumulative negative depth based on the 'Depth' column\n",
        "data['Cumulative Negative Depth'] = -1 * data['Depth'].cumsum()\n",
        "\n",
        "# Create a new CSV file with the additional column\n",
        "new_csv_file_path = 'reformatted_data_with_cumulative_depth.csv'\n",
        "data.to_csv(new_csv_file_path, index=False)\n",
        "\n",
        "# Display the first few rows of the updated DataFrame\n",
        "print(data.head())"
      ],
      "metadata": {
        "colab": {
          "base_uri": "https://localhost:8080/"
        },
        "id": "169EiftkmzpM",
        "outputId": "702d4a5e-819f-407c-af6f-92abce9508fb"
      },
      "execution_count": null,
      "outputs": [
        {
          "output_type": "stream",
          "name": "stdout",
          "text": [
            "           DateTime  Sensor  Depth     A      B  Cumulative Negative Depth\n",
            "0  22/08/2023 16:24       1    6.0  7.10  82.05                       -6.0\n",
            "1  22/08/2023 16:24       2   12.0  1.63   4.63                      -18.0\n",
            "2  22/08/2023 16:24       3   18.0 -0.74   2.93                      -36.0\n",
            "3  22/08/2023 16:24       4   24.0 -2.07   3.94                      -60.0\n",
            "4  22/08/2023 16:24       5   30.0 -2.32   3.88                      -90.0\n"
          ]
        }
      ]
    },
    {
      "cell_type": "code",
      "source": [
        "#selecting the number of rows in the csv file for the graph formation.\n",
        "\n",
        "\n",
        "# Create a function to select a specified number of rows (default is 8 rows)\n",
        "def select_rows(df, num_rows=20):\n",
        "    return df.head(num_rows)\n",
        "\n",
        "# Use the function to select rows and store them in an array\n",
        "selected_rows = select_rows(data)  # Default is 8 rows\n",
        "\n",
        "# Display the selected rows in the array\n",
        "print(selected_rows)\n"
      ],
      "metadata": {
        "colab": {
          "base_uri": "https://localhost:8080/"
        },
        "id": "qlm8hOuN05ms",
        "outputId": "a744b4b9-c64c-4b15-9dbe-31af01bddddf"
      },
      "execution_count": null,
      "outputs": [
        {
          "output_type": "stream",
          "name": "stdout",
          "text": [
            "            DateTime  Sensor  Depth     A      B\n",
            "0   22/08/2023 16:24       1    6.0  7.10  82.05\n",
            "1   22/08/2023 16:24       2   12.0  1.63   4.63\n",
            "2   22/08/2023 16:24       3   18.0 -0.74   2.93\n",
            "3   22/08/2023 16:24       4   24.0 -2.07   3.94\n",
            "4   22/08/2023 16:24       5   30.0 -2.32   3.88\n",
            "5   22/08/2023 16:24       6   36.0  2.23   1.33\n",
            "6   22/08/2023 16:24       7   42.0 -1.78   6.94\n",
            "7   22/08/2023 16:24       8   48.0 -1.93   5.83\n",
            "8   22/08/2023 17:30       1    6.0  7.05  82.11\n",
            "9   22/08/2023 17:30       2   12.0  1.63   4.63\n",
            "10  22/08/2023 17:30       3   18.0 -0.76   2.91\n",
            "11  22/08/2023 17:30       4   24.0 -2.08   3.95\n",
            "12  22/08/2023 17:30       5   30.0 -2.33   3.87\n",
            "13  22/08/2023 17:30       6   36.0  2.21   1.31\n",
            "14  22/08/2023 17:30       7   42.0 -1.81   6.94\n",
            "15  22/08/2023 17:30       8   48.0 -1.94   5.79\n",
            "16  22/08/2023 18:30       1    6.0  7.04  82.12\n",
            "17  22/08/2023 18:30       2   12.0  1.62   4.64\n",
            "18  22/08/2023 18:30       3   18.0 -0.77   2.91\n",
            "19  22/08/2023 18:30       4   24.0 -2.09   3.96\n"
          ]
        }
      ]
    },
    {
      "cell_type": "code",
      "source": [],
      "metadata": {
        "id": "B9DM9ZJ46CS1"
      },
      "execution_count": null,
      "outputs": []
    },
    {
      "cell_type": "code",
      "source": [
        "\n",
        "\n",
        "# Convert data to a numpy array and skip the header row\n",
        "data_array = np.array(selected_rows[0:])\n",
        "\n",
        "#change this\n",
        "# Extract A_axis and Cumulative Negative Depth values\n",
        "date_time = data_array[:, 0]\n",
        "a_axis = data_array[:, 3].astype(float)\n",
        "cumulative_depth = data_array[:, 5].astype(float)\n",
        "\n",
        "# Create an interactive plot using Plotly\n",
        "fig = make_subplots(rows=1, cols=1, subplot_titles=['Interactive Plot'])\n",
        "\n",
        "# Add line trace\n",
        "line_trace = go.Scatter(x=a_axis, y=cumulative_depth, mode='lines', name='Line',\n",
        "                        line=dict(color='red', width=2))\n",
        "fig.add_trace(line_trace)\n",
        "\n",
        "# Add scatter trace for data points with 'Date-Time' in hover text\n",
        "scatter_trace = go.Scatter(x=a_axis, y=cumulative_depth, mode='markers', name='',\n",
        "                           marker=dict(size=8, symbol='square', color='orange', line=dict(width=2, color='black')),\n",
        "                           hovertext=date_time)  # Include 'Date-Time' in hover text\n",
        "fig.add_trace(scatter_trace)\n",
        "\n",
        "# Add grid lines and baseline\n",
        "fig.update_layout(xaxis_showgrid=True, yaxis_showgrid=True, xaxis_zeroline=True, yaxis_zeroline=True)\n",
        "fig.update_xaxes(zerolinewidth=1.5, zerolinecolor='black')\n",
        "fig.update_yaxes(zerolinewidth= 1, zerolinecolor='blue')\n",
        "\n",
        "# Update x-axis configuration to match the provided x_axis dictionary\n",
        "fig.update_xaxes(\n",
        "    title='Displacement (mm)',\n",
        "    showgrid=True,\n",
        "    zeroline=True,\n",
        "    showline=True,\n",
        "    mirror='ticks',\n",
        "    range=[-80, 80],\n",
        "    tickvals=[-80, -70, -60, -50, -40, -30, -20, -10, 0, 10, 20, 30, 40, 50, 60, 70, 80],\n",
        "    # ticktext=['-80', '-70', '-60', '-50', '-40', '-30', '-20', '-10', '0', '10', '20', '30', '40', '50', '60', '70', '80'],\n",
        "    ticktext=['-40', '-35', '-30', '-25', '-20', '-15', '-10', '-5', '0', '5', '10', '15', '20', '25', '30', '35', '40'],\n",
        "    tickmode='array'\n",
        ")\n",
        "\n",
        "# Update layout\n",
        "fig.update_layout(title='Interactive Cumulative Negative Depth vs. A_axis',\n",
        "                  yaxis_title='Cumulative Negative Depth')\n",
        "\n",
        "# Show the interactive figure\n",
        "fig.show()\n"
      ],
      "metadata": {
        "colab": {
          "base_uri": "https://localhost:8080/",
          "height": 542
        },
        "id": "5G7DSYmpNoaq",
        "outputId": "4651a7d0-9a3a-4d0c-ee27-65905a6d26fc"
      },
      "execution_count": null,
      "outputs": [
        {
          "output_type": "display_data",
          "data": {
            "text/html": [
              "<html>\n",
              "<head><meta charset=\"utf-8\" /></head>\n",
              "<body>\n",
              "    <div>            <script src=\"https://cdnjs.cloudflare.com/ajax/libs/mathjax/2.7.5/MathJax.js?config=TeX-AMS-MML_SVG\"></script><script type=\"text/javascript\">if (window.MathJax && window.MathJax.Hub && window.MathJax.Hub.Config) {window.MathJax.Hub.Config({SVG: {font: \"STIX-Web\"}});}</script>                <script type=\"text/javascript\">window.PlotlyConfig = {MathJaxConfig: 'local'};</script>\n",
              "        <script charset=\"utf-8\" src=\"https://cdn.plot.ly/plotly-2.24.1.min.js\"></script>                <div id=\"f85d120b-21ff-497b-90cb-44718448599a\" class=\"plotly-graph-div\" style=\"height:525px; width:100%;\"></div>            <script type=\"text/javascript\">                                    window.PLOTLYENV=window.PLOTLYENV || {};                                    if (document.getElementById(\"f85d120b-21ff-497b-90cb-44718448599a\")) {                    Plotly.newPlot(                        \"f85d120b-21ff-497b-90cb-44718448599a\",                        [{\"line\":{\"color\":\"red\",\"width\":2},\"mode\":\"lines\",\"name\":\"Line\",\"x\":[7.1,1.63,-0.74,-2.07,-2.32,2.23,-1.78,-1.93,7.05,1.63,-0.76,-2.08,-2.33,2.21,-1.81],\"y\":[-6.0,-18.0,-36.0,-60.0,-90.0,-126.0,-168.0,-216.0,-222.0,-234.0,-252.0,-276.0,-306.0,-342.0,-384.0],\"type\":\"scatter\"},{\"hovertext\":[\"22\\u002f08\\u002f2023 16:24\",\"22\\u002f08\\u002f2023 16:24\",\"22\\u002f08\\u002f2023 16:24\",\"22\\u002f08\\u002f2023 16:24\",\"22\\u002f08\\u002f2023 16:24\",\"22\\u002f08\\u002f2023 16:24\",\"22\\u002f08\\u002f2023 16:24\",\"22\\u002f08\\u002f2023 16:24\",\"22\\u002f08\\u002f2023 17:30\",\"22\\u002f08\\u002f2023 17:30\",\"22\\u002f08\\u002f2023 17:30\",\"22\\u002f08\\u002f2023 17:30\",\"22\\u002f08\\u002f2023 17:30\",\"22\\u002f08\\u002f2023 17:30\",\"22\\u002f08\\u002f2023 17:30\"],\"marker\":{\"color\":\"orange\",\"line\":{\"color\":\"black\",\"width\":2},\"size\":8,\"symbol\":\"square\"},\"mode\":\"markers\",\"name\":\"\",\"x\":[7.1,1.63,-0.74,-2.07,-2.32,2.23,-1.78,-1.93,7.05,1.63,-0.76,-2.08,-2.33,2.21,-1.81],\"y\":[-6.0,-18.0,-36.0,-60.0,-90.0,-126.0,-168.0,-216.0,-222.0,-234.0,-252.0,-276.0,-306.0,-342.0,-384.0],\"type\":\"scatter\"}],                        {\"template\":{\"data\":{\"histogram2dcontour\":[{\"type\":\"histogram2dcontour\",\"colorbar\":{\"outlinewidth\":0,\"ticks\":\"\"},\"colorscale\":[[0.0,\"#0d0887\"],[0.1111111111111111,\"#46039f\"],[0.2222222222222222,\"#7201a8\"],[0.3333333333333333,\"#9c179e\"],[0.4444444444444444,\"#bd3786\"],[0.5555555555555556,\"#d8576b\"],[0.6666666666666666,\"#ed7953\"],[0.7777777777777778,\"#fb9f3a\"],[0.8888888888888888,\"#fdca26\"],[1.0,\"#f0f921\"]]}],\"choropleth\":[{\"type\":\"choropleth\",\"colorbar\":{\"outlinewidth\":0,\"ticks\":\"\"}}],\"histogram2d\":[{\"type\":\"histogram2d\",\"colorbar\":{\"outlinewidth\":0,\"ticks\":\"\"},\"colorscale\":[[0.0,\"#0d0887\"],[0.1111111111111111,\"#46039f\"],[0.2222222222222222,\"#7201a8\"],[0.3333333333333333,\"#9c179e\"],[0.4444444444444444,\"#bd3786\"],[0.5555555555555556,\"#d8576b\"],[0.6666666666666666,\"#ed7953\"],[0.7777777777777778,\"#fb9f3a\"],[0.8888888888888888,\"#fdca26\"],[1.0,\"#f0f921\"]]}],\"heatmap\":[{\"type\":\"heatmap\",\"colorbar\":{\"outlinewidth\":0,\"ticks\":\"\"},\"colorscale\":[[0.0,\"#0d0887\"],[0.1111111111111111,\"#46039f\"],[0.2222222222222222,\"#7201a8\"],[0.3333333333333333,\"#9c179e\"],[0.4444444444444444,\"#bd3786\"],[0.5555555555555556,\"#d8576b\"],[0.6666666666666666,\"#ed7953\"],[0.7777777777777778,\"#fb9f3a\"],[0.8888888888888888,\"#fdca26\"],[1.0,\"#f0f921\"]]}],\"heatmapgl\":[{\"type\":\"heatmapgl\",\"colorbar\":{\"outlinewidth\":0,\"ticks\":\"\"},\"colorscale\":[[0.0,\"#0d0887\"],[0.1111111111111111,\"#46039f\"],[0.2222222222222222,\"#7201a8\"],[0.3333333333333333,\"#9c179e\"],[0.4444444444444444,\"#bd3786\"],[0.5555555555555556,\"#d8576b\"],[0.6666666666666666,\"#ed7953\"],[0.7777777777777778,\"#fb9f3a\"],[0.8888888888888888,\"#fdca26\"],[1.0,\"#f0f921\"]]}],\"contourcarpet\":[{\"type\":\"contourcarpet\",\"colorbar\":{\"outlinewidth\":0,\"ticks\":\"\"}}],\"contour\":[{\"type\":\"contour\",\"colorbar\":{\"outlinewidth\":0,\"ticks\":\"\"},\"colorscale\":[[0.0,\"#0d0887\"],[0.1111111111111111,\"#46039f\"],[0.2222222222222222,\"#7201a8\"],[0.3333333333333333,\"#9c179e\"],[0.4444444444444444,\"#bd3786\"],[0.5555555555555556,\"#d8576b\"],[0.6666666666666666,\"#ed7953\"],[0.7777777777777778,\"#fb9f3a\"],[0.8888888888888888,\"#fdca26\"],[1.0,\"#f0f921\"]]}],\"surface\":[{\"type\":\"surface\",\"colorbar\":{\"outlinewidth\":0,\"ticks\":\"\"},\"colorscale\":[[0.0,\"#0d0887\"],[0.1111111111111111,\"#46039f\"],[0.2222222222222222,\"#7201a8\"],[0.3333333333333333,\"#9c179e\"],[0.4444444444444444,\"#bd3786\"],[0.5555555555555556,\"#d8576b\"],[0.6666666666666666,\"#ed7953\"],[0.7777777777777778,\"#fb9f3a\"],[0.8888888888888888,\"#fdca26\"],[1.0,\"#f0f921\"]]}],\"mesh3d\":[{\"type\":\"mesh3d\",\"colorbar\":{\"outlinewidth\":0,\"ticks\":\"\"}}],\"scatter\":[{\"fillpattern\":{\"fillmode\":\"overlay\",\"size\":10,\"solidity\":0.2},\"type\":\"scatter\"}],\"parcoords\":[{\"type\":\"parcoords\",\"line\":{\"colorbar\":{\"outlinewidth\":0,\"ticks\":\"\"}}}],\"scatterpolargl\":[{\"type\":\"scatterpolargl\",\"marker\":{\"colorbar\":{\"outlinewidth\":0,\"ticks\":\"\"}}}],\"bar\":[{\"error_x\":{\"color\":\"#2a3f5f\"},\"error_y\":{\"color\":\"#2a3f5f\"},\"marker\":{\"line\":{\"color\":\"#E5ECF6\",\"width\":0.5},\"pattern\":{\"fillmode\":\"overlay\",\"size\":10,\"solidity\":0.2}},\"type\":\"bar\"}],\"scattergeo\":[{\"type\":\"scattergeo\",\"marker\":{\"colorbar\":{\"outlinewidth\":0,\"ticks\":\"\"}}}],\"scatterpolar\":[{\"type\":\"scatterpolar\",\"marker\":{\"colorbar\":{\"outlinewidth\":0,\"ticks\":\"\"}}}],\"histogram\":[{\"marker\":{\"pattern\":{\"fillmode\":\"overlay\",\"size\":10,\"solidity\":0.2}},\"type\":\"histogram\"}],\"scattergl\":[{\"type\":\"scattergl\",\"marker\":{\"colorbar\":{\"outlinewidth\":0,\"ticks\":\"\"}}}],\"scatter3d\":[{\"type\":\"scatter3d\",\"line\":{\"colorbar\":{\"outlinewidth\":0,\"ticks\":\"\"}},\"marker\":{\"colorbar\":{\"outlinewidth\":0,\"ticks\":\"\"}}}],\"scattermapbox\":[{\"type\":\"scattermapbox\",\"marker\":{\"colorbar\":{\"outlinewidth\":0,\"ticks\":\"\"}}}],\"scatterternary\":[{\"type\":\"scatterternary\",\"marker\":{\"colorbar\":{\"outlinewidth\":0,\"ticks\":\"\"}}}],\"scattercarpet\":[{\"type\":\"scattercarpet\",\"marker\":{\"colorbar\":{\"outlinewidth\":0,\"ticks\":\"\"}}}],\"carpet\":[{\"aaxis\":{\"endlinecolor\":\"#2a3f5f\",\"gridcolor\":\"white\",\"linecolor\":\"white\",\"minorgridcolor\":\"white\",\"startlinecolor\":\"#2a3f5f\"},\"baxis\":{\"endlinecolor\":\"#2a3f5f\",\"gridcolor\":\"white\",\"linecolor\":\"white\",\"minorgridcolor\":\"white\",\"startlinecolor\":\"#2a3f5f\"},\"type\":\"carpet\"}],\"table\":[{\"cells\":{\"fill\":{\"color\":\"#EBF0F8\"},\"line\":{\"color\":\"white\"}},\"header\":{\"fill\":{\"color\":\"#C8D4E3\"},\"line\":{\"color\":\"white\"}},\"type\":\"table\"}],\"barpolar\":[{\"marker\":{\"line\":{\"color\":\"#E5ECF6\",\"width\":0.5},\"pattern\":{\"fillmode\":\"overlay\",\"size\":10,\"solidity\":0.2}},\"type\":\"barpolar\"}],\"pie\":[{\"automargin\":true,\"type\":\"pie\"}]},\"layout\":{\"autotypenumbers\":\"strict\",\"colorway\":[\"#636efa\",\"#EF553B\",\"#00cc96\",\"#ab63fa\",\"#FFA15A\",\"#19d3f3\",\"#FF6692\",\"#B6E880\",\"#FF97FF\",\"#FECB52\"],\"font\":{\"color\":\"#2a3f5f\"},\"hovermode\":\"closest\",\"hoverlabel\":{\"align\":\"left\"},\"paper_bgcolor\":\"white\",\"plot_bgcolor\":\"#E5ECF6\",\"polar\":{\"bgcolor\":\"#E5ECF6\",\"angularaxis\":{\"gridcolor\":\"white\",\"linecolor\":\"white\",\"ticks\":\"\"},\"radialaxis\":{\"gridcolor\":\"white\",\"linecolor\":\"white\",\"ticks\":\"\"}},\"ternary\":{\"bgcolor\":\"#E5ECF6\",\"aaxis\":{\"gridcolor\":\"white\",\"linecolor\":\"white\",\"ticks\":\"\"},\"baxis\":{\"gridcolor\":\"white\",\"linecolor\":\"white\",\"ticks\":\"\"},\"caxis\":{\"gridcolor\":\"white\",\"linecolor\":\"white\",\"ticks\":\"\"}},\"coloraxis\":{\"colorbar\":{\"outlinewidth\":0,\"ticks\":\"\"}},\"colorscale\":{\"sequential\":[[0.0,\"#0d0887\"],[0.1111111111111111,\"#46039f\"],[0.2222222222222222,\"#7201a8\"],[0.3333333333333333,\"#9c179e\"],[0.4444444444444444,\"#bd3786\"],[0.5555555555555556,\"#d8576b\"],[0.6666666666666666,\"#ed7953\"],[0.7777777777777778,\"#fb9f3a\"],[0.8888888888888888,\"#fdca26\"],[1.0,\"#f0f921\"]],\"sequentialminus\":[[0.0,\"#0d0887\"],[0.1111111111111111,\"#46039f\"],[0.2222222222222222,\"#7201a8\"],[0.3333333333333333,\"#9c179e\"],[0.4444444444444444,\"#bd3786\"],[0.5555555555555556,\"#d8576b\"],[0.6666666666666666,\"#ed7953\"],[0.7777777777777778,\"#fb9f3a\"],[0.8888888888888888,\"#fdca26\"],[1.0,\"#f0f921\"]],\"diverging\":[[0,\"#8e0152\"],[0.1,\"#c51b7d\"],[0.2,\"#de77ae\"],[0.3,\"#f1b6da\"],[0.4,\"#fde0ef\"],[0.5,\"#f7f7f7\"],[0.6,\"#e6f5d0\"],[0.7,\"#b8e186\"],[0.8,\"#7fbc41\"],[0.9,\"#4d9221\"],[1,\"#276419\"]]},\"xaxis\":{\"gridcolor\":\"white\",\"linecolor\":\"white\",\"ticks\":\"\",\"title\":{\"standoff\":15},\"zerolinecolor\":\"white\",\"automargin\":true,\"zerolinewidth\":2},\"yaxis\":{\"gridcolor\":\"white\",\"linecolor\":\"white\",\"ticks\":\"\",\"title\":{\"standoff\":15},\"zerolinecolor\":\"white\",\"automargin\":true,\"zerolinewidth\":2},\"scene\":{\"xaxis\":{\"backgroundcolor\":\"#E5ECF6\",\"gridcolor\":\"white\",\"linecolor\":\"white\",\"showbackground\":true,\"ticks\":\"\",\"zerolinecolor\":\"white\",\"gridwidth\":2},\"yaxis\":{\"backgroundcolor\":\"#E5ECF6\",\"gridcolor\":\"white\",\"linecolor\":\"white\",\"showbackground\":true,\"ticks\":\"\",\"zerolinecolor\":\"white\",\"gridwidth\":2},\"zaxis\":{\"backgroundcolor\":\"#E5ECF6\",\"gridcolor\":\"white\",\"linecolor\":\"white\",\"showbackground\":true,\"ticks\":\"\",\"zerolinecolor\":\"white\",\"gridwidth\":2}},\"shapedefaults\":{\"line\":{\"color\":\"#2a3f5f\"}},\"annotationdefaults\":{\"arrowcolor\":\"#2a3f5f\",\"arrowhead\":0,\"arrowwidth\":1},\"geo\":{\"bgcolor\":\"white\",\"landcolor\":\"#E5ECF6\",\"subunitcolor\":\"white\",\"showland\":true,\"showlakes\":true,\"lakecolor\":\"white\"},\"title\":{\"x\":0.05},\"mapbox\":{\"style\":\"light\"}}},\"xaxis\":{\"anchor\":\"y\",\"domain\":[0.0,1.0],\"showgrid\":true,\"zeroline\":true,\"zerolinewidth\":1.5,\"zerolinecolor\":\"black\",\"title\":{\"text\":\"Displacement (mm)\"},\"showline\":true,\"mirror\":\"ticks\",\"range\":[-80,80],\"tickvals\":[-80,-70,-60,-50,-40,-30,-20,-10,0,10,20,30,40,50,60,70,80],\"ticktext\":[\"-40\",\"-35\",\"-30\",\"-25\",\"-20\",\"-15\",\"-10\",\"-5\",\"0\",\"5\",\"10\",\"15\",\"20\",\"25\",\"30\",\"35\",\"40\"],\"tickmode\":\"array\"},\"yaxis\":{\"anchor\":\"x\",\"domain\":[0.0,1.0],\"showgrid\":true,\"zeroline\":true,\"zerolinewidth\":1,\"zerolinecolor\":\"blue\",\"title\":{\"text\":\"Cumulative Negative Depth\"}},\"annotations\":[{\"font\":{\"size\":16},\"showarrow\":false,\"text\":\"Interactive Plot\",\"x\":0.5,\"xanchor\":\"center\",\"xref\":\"paper\",\"y\":1.0,\"yanchor\":\"bottom\",\"yref\":\"paper\"}],\"title\":{\"text\":\"Interactive Cumulative Negative Depth vs. A_axis\"}},                        {\"responsive\": true}                    ).then(function(){\n",
              "                            \n",
              "var gd = document.getElementById('f85d120b-21ff-497b-90cb-44718448599a');\n",
              "var x = new MutationObserver(function (mutations, observer) {{\n",
              "        var display = window.getComputedStyle(gd).display;\n",
              "        if (!display || display === 'none') {{\n",
              "            console.log([gd, 'removed!']);\n",
              "            Plotly.purge(gd);\n",
              "            observer.disconnect();\n",
              "        }}\n",
              "}});\n",
              "\n",
              "// Listen for the removal of the full notebook cells\n",
              "var notebookContainer = gd.closest('#notebook-container');\n",
              "if (notebookContainer) {{\n",
              "    x.observe(notebookContainer, {childList: true});\n",
              "}}\n",
              "\n",
              "// Listen for the clearing of the current output cell\n",
              "var outputEl = gd.closest('.output');\n",
              "if (outputEl) {{\n",
              "    x.observe(outputEl, {childList: true});\n",
              "}}\n",
              "\n",
              "                        })                };                            </script>        </div>\n",
              "</body>\n",
              "</html>"
            ]
          },
          "metadata": {}
        }
      ]
    },
    {
      "cell_type": "code",
      "source": [],
      "metadata": {
        "id": "9SiyzjHcbTfK"
      },
      "execution_count": null,
      "outputs": []
    }
  ]
}